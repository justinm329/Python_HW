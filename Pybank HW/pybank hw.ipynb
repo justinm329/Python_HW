{
 "cells": [
  {
   "cell_type": "markdown",
   "id": "strong-elimination",
   "metadata": {},
   "source": [
    "## Pybank\n"
   ]
  },
  {
   "cell_type": "code",
   "execution_count": null,
   "id": "extreme-prevention",
   "metadata": {},
   "outputs": [],
   "source": [
    "import csv\n",
    "from pathlib import Path"
   ]
  },
  {
   "cell_type": "code",
   "execution_count": 2,
   "id": "necessary-mother",
   "metadata": {},
   "outputs": [],
   "source": [
    "csvpath = Path('../Resources/budget_data.csv')"
   ]
  },
  {
   "cell_type": "code",
   "execution_count": 3,
   "id": "impressed-fashion",
   "metadata": {},
   "outputs": [
    {
     "name": "stdout",
     "output_type": "stream",
     "text": [
      "Current Working Directory: C:\\Users\\Justi\\Bootcamp Course Work\\github\\Python_HW\\Pybank HW\n"
     ]
    }
   ],
   "source": [
    "print(f\"Current Working Directory: {Path.cwd()}\")"
   ]
  },
  {
   "cell_type": "code",
   "execution_count": 4,
   "id": "authentic-tragedy",
   "metadata": {},
   "outputs": [],
   "source": [
    "# Initialize financial paraameters\n",
    "months = 0\n",
    "change_month = []\n",
    "my_net_change_list = []\n",
    "greatest_increase = ['' , 0]\n",
    "greatest_decrease = ['' , 99999999999]\n",
    "total_net = 0 "
   ]
  },
  {
   "cell_type": "code",
   "execution_count": 5,
   "id": "sticky-painting",
   "metadata": {},
   "outputs": [],
   "source": [
    "# open input path as a file function\n",
    "with open(csvpath, 'r') as data:\n",
    "    reader = csv.reader(data, delimiter = \",\")\n",
    "    \n",
    "    # Reading header \n",
    "    header = next(reader)\n",
    "    \n",
    "    # Extract the finromation for the first row\n",
    "    row_1 = next(reader)\n",
    "    months += 1\n",
    "    total_net += int(row_1[1])\n",
    "    previous_net = int(row_1[1])\n",
    "    \n",
    "    for row in reader:\n",
    "        \n",
    "        # Total update\n",
    "        months += 1\n",
    "        total_net += int(row[1])\n",
    "        \n",
    "        # Net change\n",
    "        net_change = int(row[1]) - previous_net\n",
    "        previous_net = int(row[1])\n",
    "        my_net_change_list = my_net_change_list + [net_change]\n",
    "        change_month = change_month + [row[0]]\n",
    "        \n",
    "        # Greatest increase\n",
    "        if net_change > greatest_increase[1]:\n",
    "            greatest_increase[0] = row[0]\n",
    "            greatest_increase[1] = net_change\n",
    "        \n",
    "        # Greatest decrease\n",
    "        if net_change < greatest_decrease[1]:\n",
    "            greatest_decrease[0] = row[0]\n",
    "            greatest_decrease[1] = net_change\n",
    "            \n",
    "monthly_average = round(sum(my_net_change_list)/len(my_net_change_list) , 2)"
   ]
  },
  {
   "cell_type": "code",
   "execution_count": 6,
   "id": "burning-resistance",
   "metadata": {},
   "outputs": [],
   "source": [
    "output_file_1 = Path('../Pybank HW/output_file_1.txt')"
   ]
  },
  {
   "cell_type": "code",
   "execution_count": 7,
   "id": "possible-strap",
   "metadata": {},
   "outputs": [],
   "source": [
    "# Exporting results to txt file\n",
    "with open (output_file_1, \"w\") as text_file:\n",
    "    text_file.write(\"Financial Analysis\\n\")\n",
    "    text_file.write(\"---------------------\\n\")\n",
    "    text_file.write(f\"Total Months: {months}\\n\")\n",
    "    text_file.write(f\"Total: {total_net}\\n\")\n",
    "    text_file.write(f\"Average  Change: {monthly_average}\\n\")\n",
    "    text_file.write(f\"Greatest Increase in Profits: {greatest_increase[0]} $({greatest_increase[1]})\\n\")\n",
    "    text_file.write(f\"Greatest Decrease in Profits: {greatest_decrease[0]} $({greatest_decrease[1]})\\n\")\n"
   ]
  }
 ],
 "metadata": {
  "kernelspec": {
   "display_name": "Python 3",
   "language": "python",
   "name": "python3"
  },
  "language_info": {
   "codemirror_mode": {
    "name": "ipython",
    "version": 3
   },
   "file_extension": ".py",
   "mimetype": "text/x-python",
   "name": "python",
   "nbconvert_exporter": "python",
   "pygments_lexer": "ipython3",
   "version": "3.8.5"
  }
 },
 "nbformat": 4,
 "nbformat_minor": 5
}
